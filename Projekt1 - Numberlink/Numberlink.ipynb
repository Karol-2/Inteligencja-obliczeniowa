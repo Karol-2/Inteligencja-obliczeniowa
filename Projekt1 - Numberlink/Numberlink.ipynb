{
 "cells": [
  {
   "attachments": {},
   "cell_type": "markdown",
   "metadata": {},
   "source": [
    "<h1> 1. Wstęp </h1>\n",
    "<p> Poniższa praca dotyczy rozwiązania problemu <b>Numberlink</b> za pomocą różnych algorytmów. Jest to gra logiczna, która polega na połączeniu ze sobą liczb, wdług następujących zasad: \n",
    "<ul>\n",
    "    <li>Każdy numer jest połączony ze swoim odpowiednikiem za pomocą ciągłych ścieżek,\n",
    "    <li>Scieżka nie może się przecinać z inną,\n",
    "    <li>Nie można przechodzić na ukos,\n",
    "    <li>Ta sama ścieżka nie może przechodzić koło siebie,\n",
    "    <li>Wszystkie pola muszą być zapełnione.\n",
    "</ul>\n",
    "Zagadki są rozwiązywane na kwadratowych planszach. Istnieje tylko jedno rozwiązanie każdego przykładu.\n",
    "<p>\n",
    "<img src=\"https://en.wikipedia.org/wiki/Numberlink#/media/File:Numberlink_puzzle.svg\" alt=\"Przykład\" />\n",
    "<img src=\"https://en.wikipedia.org/wiki/Numberlink#/media/File:Numberlink_puzzle_solution.svg\" alt=\"Przykład rozwiązany\" />"
   ]
  }
 ],
 "metadata": {
  "language_info": {
   "name": "python"
  },
  "orig_nbformat": 4
 },
 "nbformat": 4,
 "nbformat_minor": 2
}
