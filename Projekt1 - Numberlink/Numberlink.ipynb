{
 "cells":[
  {
   "cell_type":"markdown",
   "source":[
    "<h1> 1. Wstęp <\/h1>\n",
    "<p> Poniższa praca dotyczy rozwiązania problemu <b>Numberlink<\/b> za pomocą różnych algorytmów. Numberlink to gra logiczna, która polega na połączeniu ze sobą liczb, wdług następujących zasad: \n",
    "<ul>\n",
    "    <li>Każdy numer jest połączony ze swoim odpowiednikiem za pomocą ciągłych ścieżek \n",
    "    <li>Scieżka nie może się przecinać z inną \n",
    "    <li>Nie można przechodzić na ukos\n",
    "    <li>Ta sama ścieżka nie może przechodzić koło siebie\n",
    "    <li>Wszystkie pola muszą być zapełnione\n",
    "<\/ul>\n",
    "Zagadki są rozwiązywane na kwadratowych planszach. Istnieje tylko jedno rozwiązanie każdego przykładu.\n",
    "<p>"
   ],
   "attachments":{
    
   },
   "metadata":{
    "datalore":{
     "node_id":"D1cDmtd7kvTasGi6Vf2Knv",
     "type":"MD",
     "hide_input_from_viewers":false,
     "hide_output_from_viewers":false,
     "report_properties":{
      "rowId":"q48boELFTXuSflICY2i4tq",
      "relativeY":0
     }
    }
   }
  },
  {
   "cell_type":"markdown",
   "source":[
    "<h1> 2. Instancje problemów do rozwiązania <\/h1>\n",
    "<p> Algorytm genetyczny będzie testowany na 9 rozwiązaniech,\n",
    "<ul>\n",
    "<li>3 małych - (plansza 5x5),\n",
    "<li>3 średnich - (plansza 8x8),\n",
    "<li> 3 dużych - (plansza 11x11),\n",
    "<\/ul>"
   ],
   "attachments":{
    
   },
   "metadata":{
    "datalore":{
     "node_id":"iQYi6KA8BXe6iZu3ERTdoY",
     "type":"MD",
     "hide_input_from_viewers":false,
     "hide_output_from_viewers":false,
     "report_properties":{
      "rowId":"v7JB0SdxqpAv02wD5qE89i",
      "relativeY":0
     }
    }
   }
  },
  {
   "cell_type":"code",
   "source":[
    "\"\"\"\n",
    "PRZYPADKI MAŁEJ WIELKOŚCI:\n",
    "\n",
    "\"-\" reprezentuje puste pole, liczby 0,1,.... to punkty które trzeba połączyć\n",
    "pod przykładem jest prezentowane idealne rozwiązanie jako ciąg liczb\n",
    "Przykład 5x5_1:\n",
    "\"\"\"\n",
    "\n",
    "plansza_5x5_1 = [\n",
    "    [\"-\",\"-\",\"-\",\"-\",\"-\"],\n",
    "    [\"-\",\"1\",\"-\",\"-\",\"-\"],\n",
    "    [\"-\",\"-\",\"2\",\"-\",\"-\"],\n",
    "    [\"-\",\"-\",\"1\",\"-\",\"-\"],\n",
    "    [\"0\",\"2\",\"0\",\"-\",\"-\"],\n",
    "]\n",
    "\n",
    "idealne_5x5_1 = [\n",
    "    [0,0,0,0,0],\n",
    "    [0,1,1,1,0],\n",
    "    [0,2,2,1,0],\n",
    "    [0,2,1,1,0],\n",
    "    [0,2,0,0,0]\n",
    "]\n",
    "\n",
    "\"\"\"\n",
    "Przykład 5x5_2:\n",
    "\"\"\"\n",
    "\n",
    "plansza_5x5_2 = [\n",
    "    [\"-\",\"-\",\"-\",\"-\",\"-\"],\n",
    "    [\"-\",\"-\",\"-\",\"-\",\"0\"],\n",
    "    [\"-\",\"-\",\"2\",\"-\",\"1\"],\n",
    "    [\"-\",\"-\",\"-\",\"-\",\"2\"],\n",
    "    [\"0\",\"-\",\"-\",\"-\",\"1\"],\n",
    "]\n",
    "\n",
    "idealne_5x5_2 = [\n",
    "    [0,0,0,0,0],\n",
    "    [0,1,1,1,0],\n",
    "    [0,1,2,1,1],\n",
    "    [0,1,2,2,2],\n",
    "    [0,1,1,1,1]\n",
    "]\n",
    "\"\"\"\n",
    "Przykład 5x5_3:\n",
    "\"\"\"\n",
    "\n",
    "plansza_5x5_3 = [\n",
    "    [\"0\",\"-\",\"1\",\"-\",\"2\"],\n",
    "    [\"1\",\"-\",\"0\",\"-\",\"-\"],\n",
    "    [\"-\",\"-\",\"-\",\"-\",\"-\"],\n",
    "    [\"3\",\"-\",\"-\",\"3\",\"-\"],\n",
    "    [\"2\",\"-\",\"-\",\"-\",\"-\"],\n",
    "]\n",
    "\n",
    "idealne_5x5_3 = [\n",
    "    [0,0,1,1,2],\n",
    "    [1,0,0,1,2],\n",
    "    [1,1,1,1,2],\n",
    "    [3,3,3,3,2],\n",
    "    [2,2,2,2,2]\n",
    "]"
   ],
   "execution_count":10,
   "outputs":[
    
   ],
   "metadata":{
    "datalore":{
     "node_id":"duIw5TrAGQNcxFulvLOZGl",
     "type":"CODE",
     "hide_input_from_viewers":false,
     "hide_output_from_viewers":false,
     "report_properties":{
      "rowId":"2TonppulQV3MywZY8v6iKo",
      "relativeY":0
     }
    }
   }
  },
  {
   "cell_type":"code",
   "source":[
    "\"\"\"\n",
    "PRZYPADKI ŚREDNIEJ WIELKOŚCI:\n",
    "\n",
    "\"-\" reprezentuje puste pole, liczby 0,1,.... to punkty które trzeba połączyć\n",
    "pod przykładem jest prezentowane idealne rozwiązanie jako ciąg liczb\n",
    "Przykład 8x8_1:\n",
    "\"\"\"\n",
    "\n",
    "plansza_8x8_1 = [\n",
    "    [\"0\",\"-\",\"1\",\"2\",\"-\",\"-\",\"3\",\"4\"],\n",
    "    [\"5\",\"-\",\"-\",\"-\",\"-\",\"2\",\"-\",\"-\"],\n",
    "    [\"-\",\"-\",\"-\",\"6\",\"-\",\"-\",\"-\",\"-\"],\n",
    "    [\"-\",\"-\",\"-\",\"-\",\"-\",\"-\",\"-\",\"-\"],\n",
    "    [\"5\",\"-\",\"6\",\"-\",\"-\",\"-\",\"-\",\"7\"],\n",
    "    [\"0\",\"-\",\"-\",\"-\",\"-\",\"7\",\"-\",\"-\"],\n",
    "    [\"-\",\"-\",\"-\",\"3\",\"-\",\"-\",\"4\",\"-\"],\n",
    "    [\"1\",\"8\",\"-\",\"-\",\"8\",\"-\",\"-\",\"-\"]\n",
    "]\n",
    "\n",
    "idealne_8x8_1 = [\n",
    "    [0,0,1,2,2,2,3,4],\n",
    "    [5,0,1,1,1,2,3,4],\n",
    "    [5,0,6,6,1,3,3,4],\n",
    "    [5,0,6,1,1,3,4,4],\n",
    "    [5,0,6,1,3,3,4,7],\n",
    "    [0,0,1,1,3,7,4,7],\n",
    "    [1,1,1,3,3,7,4,7],\n",
    "    [1,8,8,8,8,7,7,7]\n",
    "]\n",
    "\n",
    "\"\"\"\n",
    "Przykład 8x8_2:\n",
    "\"\"\"\n",
    "\n",
    "plansza_8x8_2 = [\n",
    "    [\"-\",\"-\",\"-\",\"1\",\"2\",\"-\",\"-\",\"2\"],\n",
    "    [\"-\",\"3\",\"0\",\"-\",\"-\",\"-\",\"-\",\"1\"],\n",
    "    [\"-\",\"-\",\"-\",\"4\",\"5\",\"-\",\"-\",\"-\"],\n",
    "    [\"-\",\"-\",\"-\",\"-\",\"-\",\"6\",\"7\",\"-\"],\n",
    "    [\"0\",\"3\",\"4\",\"-\",\"7\",\"-\",\"-\",\"-\"],\n",
    "    [\"-\",\"-\",\"-\",\"-\",\"6\",\"-\",\"-\",\"-\"],\n",
    "    [\"-\",\"8\",\"-\",\"-\",\"9\",\"-\",\"-\",\"9\"],\n",
    "    [\"-\",\"-\",\"5\",\"-\",\"-\",\"-\",\"-\",\"8\"]\n",
    "]\n",
    "\n",
    "idealne_8x8_2 = [\n",
    "    [0,0,0,1,2,2,2,2],\n",
    "    [0,3,0,1,1,1,1,1],\n",
    "    [0,3,4,4,5,6,6,6],\n",
    "    [0,3,4,5,5,6,7,6],\n",
    "    [0,3,4,5,7,7,7,6],\n",
    "    [5,5,5,5,6,6,6,6],\n",
    "    [5,8,8,8,9,9,9,9],\n",
    "    [5,5,5,8,8,8,8,8]\n",
    "]\n",
    "\n",
    "plansza_8x8_3 = [\n",
    "    [\"0\",\"-\",\"-\",\"-\",\"-\",\"-\",\"1\",\"2\"],\n",
    "    [\"3\",\"-\",\"-\",\"-\",\"-\",\"-\",\"-\",\"-\"],\n",
    "    [\"4\",\"-\",\"-\",\"-\",\"2\",\"-\",\"-\",\"-\"],\n",
    "    [\"-\",\"-\",\"-\",\"-\",\"-\",\"-\",\"5\",\"-\"],\n",
    "    [\"-\",\"-\",\"-\",\"-\",\"-\",\"-\",\"-\",\"-\"],\n",
    "    [\"-\",\"3\",\"-\",\"-\",\"-\",\"-\",\"-\",\"-\"],\n",
    "    [\"-\",\"4\",\"-\",\"-\",\"-\",\"6\",\"-\",\"-\"],\n",
    "    [\"0\",\"-\",\"-\",\"5\",\"-\",\"-\",\"1\",\"6\"]\n",
    "]\n",
    "\n",
    "idealne_8x8_3 = [\n",
    "    [0,0,0,1,1,1,1,2],\n",
    "    [3,3,0,1,2,2,2,2],\n",
    "    [4,3,0,1,2,1,1,1],\n",
    "    [4,3,0,1,1,1,5,1],\n",
    "    [4,3,0,5,5,5,5,1],\n",
    "    [4,3,0,5,1,1,1,1],\n",
    "    [4,4,0,5,1,6,6,6],\n",
    "    [0,0,0,5,1,1,1,6]\n",
    "]"
   ],
   "execution_count":11,
   "outputs":[
    
   ],
   "metadata":{
    "datalore":{
     "node_id":"EvEgF6a0PGfQTu4pXNB3qy",
     "type":"CODE",
     "hide_input_from_viewers":false,
     "hide_output_from_viewers":true,
     "report_properties":{
      "rowId":"uGjFdKCeOGJbc7h0Qp74ta",
      "relativeY":0
     }
    }
   }
  },
  {
   "cell_type":"code",
   "source":[
    "\"\"\"\n",
    "PRZYPADKI DUŻEJ WIELKOŚCI:\n",
    "\n",
    "\"-\" reprezentuje puste pole, liczby 0,1,.... to punkty które trzeba połączyć\n",
    "pod przykładem jest prezentowane idealne rozwiązanie jako ciąg liczb\n",
    "Przykład 11x11_1:\n",
    "\"\"\"\n",
    "\n",
    "plansza_11x11_1 = [\n",
    "    [\"-\",\"-\",\"-\",\"-\",\"1\",\"-\",\"-\",\"-\",\"0\",\"-\",\"-\"],\n",
    "    [\"-\",\"7\",\"6\",\"-\",\"-\",\"-\",\"-\",\"-\",\"-\",\"-\",\"-\"],\n",
    "    [\"-\",\"-\",\"-\",\"-\",\"-\",\"-\",\"-\",\"-\",\"-\",\"-\",\"-\"],\n",
    "    [\"-\",\"-\",\"-\",\"-\",\"7\",\"-\",\"6\",\"5\",\"-\",\"-\",\"-\"],\n",
    "    [\"-\",\"-\",\"-\",\"-\",\"-\",\"3\",\"2\",\"-\",\"-\",\"-\",\"-\"],\n",
    "    [\"4\",\"-\",\"3\",\"-\",\"-\",\"-\",\"-\",\"-\",\"-\",\"-\",\"-\"],\n",
    "    [\"-\",\"-\",\"-\",\"-\",\"-\",\"-\",\"4\",\"-\",\"-\",\"-\",\"-\"],\n",
    "    [\"-\",\"-\",\"-\",\"-\",\"-\",\"5\",\"-\",\"-\",\"-\",\"-\",\"-\"],\n",
    "    [\"-\",\"-\",\"-\",\"2\",\"-\",\"-\",\"-\",\"-\",\"-\",\"-\",\"-\"],\n",
    "    [\"-\",\"0\",\"-\",\"-\",\"-\",\"-\",\"-\",\"-\",\"-\",\"-\",\"-\"],\n",
    "    [\"1\",\"-\",\"-\",\"-\",\"-\",\"-\",\"-\",\"-\",\"-\",\"-\",\"-\"]\n",
    "\n",
    "]\n",
    "\n",
    "idealne_11x11_1 = [\n",
    "    [2,2,2,2,1,1,1,1,0,0,0],\n",
    "    [2,7,6,2,2,2,2,1,1,1,0],\n",
    "    [2,7,6,6,6,6,2,2,2,1,0],\n",
    "    [2,7,7,7,7,6,6,5,2,1,0],\n",
    "    [2,2,3,3,3,3,2,5,2,1,0],\n",
    "    [4,2,3,2,2,2,2,5,2,1,0],\n",
    "    [4,2,2,2,4,4,4,5,2,1,0],\n",
    "    [4,4,4,4,4,5,5,5,2,1,0],\n",
    "    [1,1,1,2,2,2,2,2,2,1,0],\n",
    "    [1,0,1,1,1,1,1,1,1,1,0],\n",
    "    [1,0,0,0,0,0,0,0,0,0,0],\n",
    "]\n",
    "\n",
    "\"\"\"\n",
    "Przykład 11x11_2:\n",
    "\"\"\"\n",
    "\n",
    "plansza_11x11_2 = [\n",
    "    [\"-\",\"-\",\"-\",\"-\",\"-\",\"0\",\"-\",\"-\",\"-\",\"-\",\"-\"],\n",
    "    [\"-\",\"3\",\"-\",\"1\",\"-\",\"-\",\"-\",\"-\",\"-\",\"2\",\"-\"],\n",
    "    [\"-\",\"-\",\"-\",\"-\",\"-\",\"-\",\"-\",\"-\",\"-\",\"1\",\"-\"],\n",
    "    [\"5\",\"-\",\"-\",\"-\",\"-\",\"-\",\"-\",\"-\",\"-\",\"-\",\"-\"],\n",
    "    [\"-\",\"-\",\"-\",\"4\",\"-\",\"-\",\"-\",\"-\",\"-\",\"-\",\"-\"],\n",
    "    [\"-\",\"-\",\"-\",\"-\",\"-\",\"-\",\"3\",\"-\",\"4\",\"-\",\"-\"],\n",
    "    [\"6\",\"-\",\"-\",\"5\",\"6\",\"-\",\"2\",\"-\",\"-\",\"-\",\"-\"],\n",
    "    [\"-\",\"-\",\"-\",\"-\",\"-\",\"-\",\"-\",\"-\",\"-\",\"9\",\"-\"],\n",
    "    [\"-\",\"-\",\"-\",\"-\",\"7\",\"9\",\"8\",\"-\",\"-\",\"8\",\"-\"],\n",
    "    [\"-\",\"0\",\"-\",\"-\",\"-\",\"-\",\"-\",\"-\",\"-\",\"-\",\"-\"],\n",
    "    [\"-\",\"-\",\"-\",\"-\",\"-\",\"-\",\"-\",\"-\",\"-\",\"-\",\"7\"]\n",
    "]\n",
    "\n",
    "idealne_11x11_2 = [\n",
    "    [2,2,2,2,2,0,0,0,0,0,0],\n",
    "    [2,3,3,1,2,2,2,2,2,2,0],\n",
    "    [2,2,3,1,1,1,1,1,1,1,0],\n",
    "    [5,2,3,3,3,3,3,3,3,3,0],\n",
    "    [5,2,2,4,4,4,4,4,4,3,0],\n",
    "    [5,5,2,2,2,2,3,3,4,3,0],\n",
    "    [6,5,5,5,6,2,2,3,3,3,0],\n",
    "    [6,6,6,6,6,9,9,9,9,9,0],\n",
    "    [7,7,7,7,7,9,8,8,8,8,0],\n",
    "    [7,0,0,0,0,0,0,0,0,0,0],\n",
    "    [7,7,7,7,7,7,7,7,7,7,7]\n",
    "]\n",
    "\n",
    "plansza_11x11_3 = [\n",
    "    [\"-\",\"-\",\"-\",\"-\",\"-\",\"-\",\"-\",\"-\",\"-\",\"-\",\"-\"],\n",
    "    [\"-\",\"-\",\"-\",\"-\",\"-\",\"-\",\"-\",\"10\",\"-\",\"-\",\"-\"],\n",
    "    [\"-\",\"-\",\"5\",\"7\",\"-\",\"-\",\"-\",\"9\",\"-\",\"-\",\"-\"],\n",
    "    [\"-\",\"6\",\"-\",\"-\",\"-\",\"-\",\"-\",\"-\",\"-\",\"-\",\"-\"],\n",
    "    [\"-\",\"-\",\"-\",\"8\",\"-\",\"-\",\"-\",\"-\",\"-\",\"-\",\"-\"],\n",
    "    [\"0\",\"1\",\"-\",\"2\",\"-\",\"-\",\"-\",\"-\",\"-\",\"-\",\"-\"],\n",
    "    [\"-\",\"-\",\"-\",\"3\",\"4\",\"-\",\"-\",\"-\",\"-\",\"-\",\"-\"],\n",
    "    [\"-\",\"-\",\"-\",\"-\",\"-\",\"5\",\"-\",\"-\",\"-\",\"-\",\"-\"],\n",
    "    [\"-\",\"-\",\"2\",\"3\",\"-\",\"4\",\"7\",\"-\",\"-\",\"10\",\"-\"],\n",
    "    [\"-\",\"1\",\"-\",\"-\",\"-\",\"0\",\"-\",\"-\",\"-\",\"9\",\"-\"],\n",
    "    [\"-\",\"-\",\"-\",\"6\",\"-\",\"-\",\"-\",\"8\",\"-\",\"-\",\"-\"]\n",
    "]\n",
    "\n",
    "idealne_11x11_3 = [\n",
    "[ 8,  8,  8,  8,  8,  8,  8,  8,  8,  8,  8],\n",
    "[ 8,  6,  6,  6,  6,  6,  6, 10, 10, 10,  8],\n",
    "[ 8,  6,  5,  7,  7,  7,  6,  9,  9, 10,  8],\n",
    "[ 8,  6,  5,  5,  5,  7,  6,  6,  9, 10,  8],\n",
    "[ 8,  8,  8,  8,  5,  7,  7,  6,  9, 10,  8],\n",
    "[ 0,  1,  2,  2,  5,  5,  7,  6,  9, 10,  8],\n",
    "[ 0,  1,  2,  3,  4,  5,  7,  6,  9, 10,  8],\n",
    "[ 0,  1,  2,  3,  4,  5,  7,  6,  9, 10,  8],\n",
    "[ 0,  1,  2,  3,  4,  4,  7,  6,  9, 10,  8],\n",
    "[ 0,  1,  0,  0,  0,  0,  6,  6,  9,  9,  8],\n",
    "[ 0,  0,  0,  6,  6,  6,  6,  8,  8,  8,  8]\n",
    "]"
   ],
   "execution_count":null,
   "outputs":[
    
   ],
   "metadata":{
    "datalore":{
     "node_id":"ifCCbWWfz2Hr7sY44acYFr",
     "type":"CODE",
     "hide_input_from_viewers":false,
     "hide_output_from_viewers":true,
     "report_properties":{
      "rowId":"QNOthCquLUvVei6BFw1cW9",
      "relativeY":0
     }
    }
   }
  },
  {
   "cell_type":"markdown",
   "source":[
    "<h1> 3. Model algorytmu genetycznego <\/h1>\n",
    "\n",
    "gen - liczba całkowita z zakresu od 0 do *x*, gdzie *x* jest największa wartością na planszy,np. dla przykładu *5x5_1* będzie to liczba z przedziału od 0 do 2\n",
    "\n",
    "chromosom - tablica liczb (genów) o długości odpowiadającej ilości pól w macierzy, czyli w macierzy o rozmiarach 5x5 będzie równa 25\n",
    "\n",
    "funkcja fitness:"
   ],
   "attachments":{
    
   },
   "metadata":{
    "datalore":{
     "node_id":"1dH6aJ2xHP6mslWMXIbbeG",
     "type":"MD",
     "hide_input_from_viewers":true,
     "hide_output_from_viewers":false,
     "report_properties":{
      "rowId":"ukaBZeDINHkCMryzbhuYV3",
      "relativeY":0
     }
    }
   }
  },
  {
   "cell_type":"code",
   "source":[
    "import numpy as np\n",
    "import pygad\n",
    "\n",
    "def fitness_func(solution,solution_idx):\n",
    "    punkty = 0\n",
    "    suma_dlugosci = 0\n",
    "    kara = 0\n",
    "    macierz = np.array(solution).reshape((len(plansza),len(plansza)))  # zmieniamy tablicę liczb w macierz\n",
    "    brak_obowiazkowych_pol = 0\n",
    "\n",
    "    for wiersz,kolumna in wymagane_pola.keys():  # na początku sprawdzamy czy wymagane wartości podane na planszy istnieją\n",
    "        if macierz[wiersz][kolumna] != wymagane_pola[(wiersz,kolumna)]:\n",
    "            brak_obowiazkowych_pol += 1000\n",
    "            '''\n",
    "             ilość brakujących pól wlicza się do ostatecznej wartości fitness\n",
    "             kara jest podana w tysiącach, bo nie możemy pozwolić aby nie było tych wartości\n",
    "             '''\n",
    "\n",
    "    '''\n",
    "    Sprawdzamy, czy w macierzy nie znajdują się żadne samotne punkty bez żadnego połączenia\n",
    "    oprócz miejsc start\/stop\n",
    "    '''\n",
    "    for i in range(len(macierz)):\n",
    "        for j in range(len(macierz[0])):\n",
    "            if macierz[i][j] not in wymagane_pola and not punkt_nie_solo(macierz,i,j):\n",
    "                kara += 200\n",
    "\n",
    "    '''\n",
    "    Sprawdzamy, czy w macierzy nie znajdują się żadne punkty mają więcej niż 2 sąsiadów bez żadnego połączenia\n",
    "    oprócz miejsc start\/stop\n",
    "    '''\n",
    "    if not wiecej_niz_2(macierz,wymagane_pola):\n",
    "        punkty += 300\n",
    "    else:\n",
    "        kara +=200\n",
    "\n",
    "    for liczba in liczby_do_polaczenia:  # interujemy po każdej liczbie\n",
    "        key_list = list(wymagane_pola.keys())\n",
    "        val_list = list(wymagane_pola.values())\n",
    "        pos = val_list.index(liczba)\n",
    "\n",
    "        start_pozycja = 0\n",
    "        stop_pozycja = 0\n",
    "\n",
    "        for key,value in wymagane_pola.items():  # szukamy w wymaganych polach koordynatów miejsa startu dla danej liczby\n",
    "            if value == 0:\n",
    "                start_pozycja = key\n",
    "                break\n",
    "        count_zero = 0\n",
    "\n",
    "        for key,value in wymagane_pola.items():  # szukamy w wymaganych polach koordynatów miejsa stopu dla danej liczby\n",
    "            if value == 0:\n",
    "                count_zero += 1\n",
    "                if count_zero == 2:\n",
    "                    stop_pozycja = key\n",
    "                    break\n",
    "\n",
    "        pos_x = key_list[pos][0]\n",
    "        pos_y = key_list[pos][1]\n",
    "\n",
    "        if (pos_x,pos_y) not in wymagane_pola:  # pomijamy pola start\/stop\n",
    "            if czy_ma_dwoch_sasiadow(macierz,pos_x,\n",
    "                                     pos_y):  # sprawdzamy czy dla danych koordynatów jest dokładnie 2 sąsaidów\n",
    "                punkty += 50\n",
    "            else:\n",
    "                kara += 50\n",
    "\n",
    "        # #sprawdzanie czy pole startowe ma sąsiada\n",
    "        if sprawdz_sasiedztwo(macierz,pos_x,pos_y,liczba):\n",
    "            punkty += 50\n",
    "        else:\n",
    "            kara += 70\n",
    "\n",
    "        # algorytm DFS, do przeszukania macierzy według aktualnej liczby\n",
    "        '''\n",
    "        Z użyciem algorytm DFS,przeszukujemy macierz według aktualnej liczby( czyli po 0,1,2...)\n",
    "        '''\n",
    "\n",
    "        visited = set()  # zbiór odwiedzonych wierzchołków\n",
    "        stack = [start_pozycja]  # stos wierzchołków do odwiedzenia\n",
    "        while stack:\n",
    "            current = stack.pop()  # pobierz ostatni wierzchołek ze stosu\n",
    "            if current == stop_pozycja:  # jeśli znaleziono cel\n",
    "                punkty += 50 # nagradzanie znalezienia ścieżki\n",
    "                break\n",
    "            visited.add(current)  # dodaj do odwiedzonych\n",
    "            suma_dlugosci += 1  # zachęcanie szukania kolejnych wierzchołków\n",
    "\n",
    "            # znajdź sąsiadujące wierzchołki, które nie są odwiedzone\n",
    "            neighbors = [(current[0] - 1,current[1]),(current[0] + 1,current[1]),\n",
    "                         (current[0],current[1] - 1),(current[0],current[1] + 1)]\n",
    "            for neighbor in neighbors:\n",
    "                if neighbor[0] < 0 or neighbor[0] >= len(macierz) or neighbor[1] < 0 or neighbor[1] >= len(macierz[0]):\n",
    "                    continue  # pomijaj wierzchołki poza granicami macierzy\n",
    "                if macierz[neighbor[0]][neighbor[1]] == macierz[start_pozycja[0]][start_pozycja[1]] \\\n",
    "                        and neighbor not in visited:\n",
    "                    stack.append(neighbor)  # dodaj do stosu do odwiedzenia\n",
    "\n",
    "    return punkty + suma_dlugosci - brak_obowiazkowych_pol - kara"
   ],
   "execution_count":12,
   "outputs":[
    
   ],
   "metadata":{
    "datalore":{
     "node_id":"sUIkuirtA3aDjeUBO6PFE9",
     "type":"CODE",
     "hide_input_from_viewers":false,
     "hide_output_from_viewers":true,
     "report_properties":{
      "rowId":"AcDfPjp5zSR8Ius07XBRaP",
      "relativeY":0
     }
    }
   }
  },
  {
   "cell_type":"markdown",
   "source":[
    "Przebieg funkcji fitness:\n",
    "<ol>\n",
    "<li>Zamieniamy rozwiązanie który dostaliśmy na macierz\n",
    "<li>Sprawdzamy czy istnieją wymagane pola (te istniejące na planszy startowej)\n",
    "<li>Sprawdzamy, czy w macierzy nie znajdują się żadne samotne punkty bez żadnego połączenia, jeśli są to kara się zwiększa \n",
    "<li>Sprawdzamy, czy w macierzy nie znajdują się żadne punkty mają więcej niż 2 sąsiadów bez żadnego połączenia oprócz miejsc start\/stop - odpowiednio karamy i nagradzamy\n",
    "<li>Iterujemy po każdej liczbie do połączenia\n",
    "<ol>\n",
    "<li>    Szukamy w wymaganych polach koordynatów miejsa startu i stop dla danej liczby\n",
    "<li>    Sprawdzamy czy pole startowe ma sąsiada z tą samą wartością, jeśli tak nagradzamy to\n",
    "<li>    Z użyciem algorytm DFS,przeszukujemy macierz według aktualnej liczby( czyli po 0,1,2...), za kazde odwiedzone pole dajemy odpowiednią ilość punktów, aby zachęcić algorytm (jako suma_dlugosci).\n",
    "<\/ol>\n",
    "<li> Ostateczna wartość zwracana ma formę: punkty + suma_dlugosci - brak_obowiazkowych_pol - kara\n",
    "\n",
    "<\/ol>\n",
    "<p>\n",
    "Funkcja przyjmuje wartości od -(kilku tysięcy) do +(zależne od wielkości planszy, np. dla małych 142).\n",
    "<p>Fitness rzędu ujemnych kilku tysiecy oznacza iż, rozwiązanie nie posiada obowiązkowych pól startu i stop. \n",
    "Jeżeli jest to mała wartość na minusie, zazwyczaj jest to rozwiązanie w którym nie ma połączeń, lub są bardzo krótkie\n",
    "Fitness powyżej 140 daję nam w 80% poprawne (dla małych)\n",
    "\n",
    "\n",
    "Funkcje pomocnicze z których korzysta fitness:"
   ],
   "attachments":{
    
   },
   "metadata":{
    "datalore":{
     "node_id":"0BKbUfxzp3RrpPe3bacxC5",
     "type":"MD",
     "hide_input_from_viewers":true,
     "hide_output_from_viewers":false,
     "report_properties":{
      "rowId":"xb7cFzaKkmPHeC6eh2uTWL",
      "relativeY":0
     }
    }
   }
  },
  {
   "cell_type":"code",
   "source":[
    "\n",
    "\n",
    "def zapisz_indeksy(plansza):\n",
    "    \"\"\"\n",
    "    Funkcja analizuje plansze iu w formie słownika zapisuje wymagane pola - ich koordynaty i wartość\n",
    "    \"\"\"\n",
    "    indeksy = {}\n",
    "    for i in range(len(plansza)):\n",
    "        for j in range(len(plansza[i])):\n",
    "            if plansza[i][j] != '-':\n",
    "                indeksy[(i,j)] = int(plansza[i][j])\n",
    "    return indeksy\n",
    "\n",
    "\n",
    "def sprawdz_sasiedztwo(macierz,pos_x,pos_y,wartosc):\n",
    "    \"\"\"\n",
    "    Funkcja sprawdza czy dla pola o podanych koordynatach jest inne z tą samą wartoscią\n",
    "    \"\"\"\n",
    "    if pos_x > 0 and macierz[pos_x - 1][pos_y] == wartosc:\n",
    "        return True\n",
    "    if pos_x < len(macierz) - 1 and macierz[pos_x + 1][pos_y] == wartosc:\n",
    "        return True\n",
    "    if pos_y > 0 and macierz[pos_x][pos_y - 1] == wartosc:\n",
    "        return True\n",
    "    if pos_y < len(macierz[0]) - 1 and macierz[pos_x][pos_y + 1] == wartosc:\n",
    "        return True\n",
    "    return False\n",
    "\n",
    "\n",
    "def czy_ma_dwoch_sasiadow(macierz,x,y):\n",
    "    \"\"\"\n",
    "    Funkcja sprawdza czy dla pola o podanych koordynatach jest TYLKo 2 sąsiadów, jeśli jest inaczej zwraca False\n",
    "    \"\"\"\n",
    "    wartosc = macierz[y][x]\n",
    "    sasiedzi = [(x - 1,y),(x + 1,y),(x,y - 1),(x,y + 1)]\n",
    "    ilosc = 0\n",
    "    for sasiedzi in sasiedzi:\n",
    "        if 0 <= sasiedzi[0] < len(macierz) and 0 <= sasiedzi[1] < len(macierz[0]) and macierz[sasiedzi[0]][\n",
    "            sasiedzi[1]] == wartosc:\n",
    "            ilosc += 1\n",
    "\n",
    "    return ilosc == 2\n",
    "\n",
    "\n",
    "def punkt_nie_solo(macierz,i,j):\n",
    "    \"\"\"\n",
    "    Sprawdza, czy w macierzy 'matrix' w pozycji (i,j) znajduje się liczba, która nie ma żadnego sąsiada o tej samej wartości.\n",
    "    czyli szuka solowych punktów\n",
    "    \"\"\"\n",
    "    wartosc = macierz[i][j]\n",
    "    sasiedzi = [(i - 1,j),(i + 1,j),(i,j - 1),(i,j + 1)]\n",
    "\n",
    "    for sasaid in sasiedzi:\n",
    "        if 0 <= sasaid[0] < len(macierz) and sasaid[1] >= 0 and sasaid[1] < len(macierz[0]) and macierz[sasaid[0]][\n",
    "            sasaid[1]] == wartosc:\n",
    "            return True\n",
    "\n",
    "    return False\n",
    "\n",
    "def porownaj_macierze(macierzA,macierzB):\n",
    "    \"\"\"\n",
    "    Funkcja która porównuje procentowe podobieństwo naszego rozwiązania i idealnego\n",
    "    \"\"\"\n",
    "    n = len(macierzA)\n",
    "    m = len(macierzA[0])\n",
    "    te_same = 0\n",
    "\n",
    "    for i in range(n):\n",
    "        for j in range(m):\n",
    "            if macierzA[i][j] == macierzB[i][j]:\n",
    "                te_same += 1\n",
    "\n",
    "    return str((te_same \/ (n * m)) * 100) + \"% idealnego rozwiązania\"\n",
    "def wiecej_niz_2(macierz,wymagane_pola):\n",
    "    \"\"\"\n",
    "    Funkcja przechodzi przez cały macierz i sprawdza czy każdy element oprócz poł start\/stop ma 2 sąsiadów\n",
    "    \"\"\"\n",
    "    for i in range(len(macierz)):\n",
    "        for j in range(len(macierz[i])):\n",
    "            if (i, j) in wymagane_pola:\n",
    "                continue\n",
    "            wartos = macierz[i][j]\n",
    "            ilosc = 0\n",
    "            for x in range(max(0, i-1),min(len(macierz),i + 2)):\n",
    "                for y in range(max(0, j-1),min(len(macierz[i]),j + 2)):\n",
    "                    if (x, y) in wymagane_pola:\n",
    "                        continue\n",
    "                    if x == i and y == j:\n",
    "                        continue\n",
    "                    if macierz[x][y] == wartos:\n",
    "                        ilosc += 1\n",
    "            if ilosc != 2:\n",
    "                return True\n",
    "    return False"
   ],
   "execution_count":13,
   "outputs":[
    
   ],
   "metadata":{
    "datalore":{
     "node_id":"S3JVYfCayfXXAadZnCSZld",
     "type":"CODE",
     "hide_input_from_viewers":false,
     "hide_output_from_viewers":true,
     "report_properties":{
      "rowId":"es30Wf6ra97A3rMIGGcgfc",
      "relativeY":0
     }
    }
   }
  },
  {
   "cell_type":"markdown",
   "source":[
    "Parametry algorytmu:\n",
    "Po przeanalizowaniu różnych wyników, ilość generacji jest ustawiona na 5000. Zwiększa to drastycznie czas obliczeń, lecz często zmiany w najlepszym rozwiązaniu następowały w 3000, 4000 lub tuż przed 5000 pokoleniem. Wynikać to może przede wszystkim z ostrości w karaniu jaką ma algorytm - (dawanie dużych kar na początku jeśli brakuje pól obowiązkowych)"
   ],
   "attachments":{
    
   },
   "metadata":{
    "datalore":{
     "node_id":"myirZaPQoxTek7esrlwPVa",
     "type":"MD",
     "hide_input_from_viewers":true,
     "hide_output_from_viewers":false,
     "report_properties":{
      "rowId":"KjHiL95EFJXxKABrnmwzA8",
      "relativeY":0
     }
    }
   }
  },
  {
   "cell_type":"code",
   "source":[
    "wymagane_pola = zapisz_indeksy(plansza) # zapisanie w słowniku (koordynaty): wymagane pole\n",
    "rozmiar = len(plansza) * len(plansza)\n",
    "liczby_do_polaczenia = []\n",
    "\n",
    "for x in wymagane_pola.values():\n",
    "    if x not in liczby_do_polaczenia:\n",
    "        liczby_do_polaczenia.append(x)\n",
    "\n",
    "gene_space = liczby_do_polaczenia\n",
    "fitness_function = fitness_func\n",
    "\n",
    "sol_per_pop = 80  # ilość chromsomów w populacji\n",
    "num_genes = rozmiar  # ilość genow w chromosomie\n",
    "\n",
    "num_parents_mating = 40  # (okolo 50% populacji)\n",
    "num_generations = 5000  # ilosc pokolen\n",
    "keep_parents = 5  # ilosc rodzicow do zachowania\n",
    "\n",
    "parent_selection_type = \"sss\" # typ seleckji\n",
    "crossover_type = \"single_point\" #typ łączenia\n",
    "\n",
    "mutation_type = \"random\"  # mutacja ma dzialac na ilu procent genow?\n",
    "mutation_percent_genes = 15  # trzeba pamietac ile genow ma chromosom"
   ],
   "execution_count":21,
   "outputs":[
    
   ],
   "metadata":{
    "datalore":{
     "node_id":"Kkqaq5KRV2ZRjcCQvrDTpb",
     "type":"CODE",
     "hide_input_from_viewers":false,
     "hide_output_from_viewers":true,
     "report_properties":{
      "rowId":"ituclqtciOyiaufW3hbLku",
      "relativeY":0
     }
    }
   }
  },
  {
   "cell_type":"code",
   "source":[
    "''' Przykładowe wynik funkcji fitness dla solution = [0. 0. 0. 0. 0. 0. 1. 1. 1. 0. 0. 2. 2. 1. 0. 0. 2. 1. 1. 0. 0. 2. 0. 0.\n",
    " 0.]\n",
    "'''\n",
    "solution = [0, 0, 0, 0, 0, 0, 1, 1, 1, 0, 0, 2, 2, 1, 0, 0, 2, 1, 1, 0, 0, 2, 0, 0 ,0]\n",
    "print(fitness_func(solution,0))\n",
    "\n",
    "solution = [0, 0, 1, 0, 0, 0, 1, 1, 0, 0, 0, 2, 2, 1, 0, 0, 0, 1, 0, 0, 0, 2, 0, 0, 0]\n",
    "print(fitness_func(solution,0))"
   ],
   "execution_count":17,
   "outputs":[
    {
     "name":"stdout",
     "text":[
      "142\n",
      "-629\n"
     ],
     "output_type":"stream"
    }
   ],
   "metadata":{
    "datalore":{
     "node_id":"5OfaMKBCuJ6qpWv01uOpj9",
     "type":"CODE",
     "hide_input_from_viewers":false,
     "hide_output_from_viewers":false,
     "report_properties":{
      "rowId":"3tit3u8G4XZSsCi3mQKzOm",
      "relativeY":0
     }
    }
   }
  },
  {
   "cell_type":"code",
   "source":[
    "import time\n",
    "'''\n",
    "Działanie algorytmu dla przykładu 5x5_1\n",
    "'''\n",
    "plansza = [\n",
    "    [\"-\",\"-\",\"-\",\"-\",\"-\"],\n",
    "    [\"-\",\"1\",\"-\",\"-\",\"-\"],\n",
    "    [\"-\",\"-\",\"2\",\"-\",\"-\"],\n",
    "    [\"-\",\"-\",\"1\",\"-\",\"-\"],\n",
    "    [\"0\",\"2\",\"0\",\"-\",\"-\"],\n",
    "]\n",
    "\n",
    "idealne = [\n",
    "    [0,0,0,0,0],\n",
    "    [0,1,1,1,0],\n",
    "    [0,2,2,1,0],\n",
    "    [0,2,1,1,0],\n",
    "    [0,2,0,0,0]\n",
    "]\n",
    "\n",
    "\n",
    "start = time.time()\n",
    "ga_instance = pygad.GA(gene_space=gene_space,\n",
    "                       num_generations=num_generations,\n",
    "                       num_parents_mating=num_parents_mating,\n",
    "                       fitness_func=fitness_function,\n",
    "                       sol_per_pop=sol_per_pop,\n",
    "                       num_genes=num_genes,\n",
    "                       parent_selection_type=parent_selection_type,\n",
    "                       keep_parents=keep_parents,\n",
    "                       crossover_type=crossover_type,\n",
    "                       mutation_type=mutation_type,\n",
    "                       mutation_percent_genes=mutation_percent_genes)\n",
    "\n",
    "ga_instance.run()\n",
    "end = time.time()\n",
    "\n",
    "solution,solution_fitness,solution_idx = ga_instance.best_solution()\n",
    "print(list(solution))\n",
    "print(\"Parameters of the best solution:\\n {solution}\".format(solution=np.array(solution).reshape((len(plansza),len(plansza)))))\n",
    "print(\"Fitness = {solution_fitness}\".format(solution_fitness=solution_fitness))\n",
    "print(porownaj_macierze(idealne,solution.reshape((len(plansza),len(plansza)))))\n",
    "print(\"Obliczono w czasie: \", end - start, \"s.\")\n",
    "ga_instance.plot_fitness()"
   ],
   "execution_count":20,
   "outputs":[
    {
     "name":"stdout",
     "text":[
      "[0.0, 0.0, 0.0, 0.0, 0.0, 0.0, 1.0, 2.0, 0.0, 0.0, 0.0, 1.0, 2.0, 0.0, 1.0, 0.0, 2.0, 1.0, 1.0, 1.0, 0.0, 2.0, 0.0, 0.0, 1.0]\n",
      "Parameters of the best solution:\n",
      " [[0. 0. 0. 0. 0.]\n",
      " [0. 1. 2. 0. 0.]\n",
      " [0. 1. 2. 0. 1.]\n",
      " [0. 2. 1. 1. 1.]\n",
      " [0. 2. 0. 0. 1.]]\n",
      "Fitness = -11\n",
      "72.0% idealnego rozwiązania\n",
      "Obliczono w czasie:  82.69868564605713 s.\n"
     ],
     "output_type":"stream"
    },
    {
     "data":{
      "image\/png":"[encoded data removed]"
     },
     "metadata":{
      "image\/png":{
       
      }
     },
     "output_type":"display_data"
    },
    {
     "data":{
      "image\/png":"[encoded data removed]"
     },
     "metadata":{
      "image\/png":{
       
      }
     },
     "output_type":"display_data"
    }
   ],
   "metadata":{
    "datalore":{
     "node_id":"KzhI5UOxc2stN9FSDuAgyB",
     "type":"CODE",
     "hide_input_from_viewers":false,
     "hide_output_from_viewers":false,
     "report_properties":{
      "rowId":"7CumY09IiPKWGjo3ALeFQM",
      "relativeY":0
     }
    }
   }
  },
  {
   "cell_type":"markdown",
   "source":[
    "<h1> 4. Badanie efektywności algorytmu genetycznego <\/h1>\n",
    "W tym dziale zbadam czy algorytm genetyczny jest w stanie rozwiązać ten problem, oraz zbadam jego efektywność i czas działania.\n",
    "Algorytm genetyczny został uruchomiony 100 razy dla każdej trudności. \n",
    "<p>\n",
    "<p>\n",
    "Wyniki czasowe:\n"
   ],
   "attachments":{
    
   },
   "metadata":{
    "datalore":{
     "node_id":"egmZ7s2JTn3g57hGlFSPJR",
     "type":"MD",
     "hide_input_from_viewers":true,
     "hide_output_from_viewers":false,
     "report_properties":{
      "rowId":"9aOVkdiFouGDWKJLpD0zSW",
      "relativeY":0
     }
    }
   }
  },
  {
   "cell_type":"code",
   "source":[
    "import matplotlib.pyplot as plt\n",
    "\n",
    "# Dane \n",
    "categories = ['Łatwy (5x5)', 'Średni (8x8)', 'Trudny (11x11)']\n",
    "values = [46.71120663881302, 99.8307825398445, 163.29165976285935]\n",
    "\n",
    "# Wykres\n",
    "fig, ax1 = plt.subplots()\n",
    "ax1.bar(categories, values)\n",
    "ax1.set_title('Porównanie średnich czasów obliczeń')\n",
    "ax1.set_xlabel('Wielkości')\n",
    "ax1.set_ylabel('Średni Czas (s)')\n",
    "\n",
    "# Tabela\n",
    "cell_text = [[str(val)] for val in values]\n",
    "row_labels = categories\n",
    "col_labels = ['Czas (s)']\n",
    "\n",
    "fig, ax2 = plt.subplots()\n",
    "table = ax2.table(cellText=cell_text, rowLabels=row_labels, colLabels=col_labels, loc='center')\n",
    "table.auto_set_font_size(True)\n",
    "ax2.axis('off')\n",
    "\n",
    "plt.show()"
   ],
   "execution_count":6,
   "outputs":[
    {
     "data":{
      "image\/png":"[encoded data removed]"
     },
     "metadata":{
      "image\/png":{
       
      }
     },
     "output_type":"display_data"
    }
   ],
   "metadata":{
    "datalore":{
     "node_id":"uWqgiPHEZe9UFbT51mamcT",
     "type":"CODE",
     "hide_input_from_viewers":false,
     "hide_output_from_viewers":false,
     "report_properties":{
      "rowId":"XILUTI1utnsWPLK9qumZG9",
      "relativeY":0
     }
    }
   }
  },
  {
   "cell_type":"markdown",
   "source":[
    "Na podstawie tych wyników widać, że wraz z wzrostem trudności drastycznie wzrasta (prawie dwukrotnie). Duży czas obliczeń wynika głównie z ilości pokoleń ustawionej w tysiącach. Dodatkowym czynnikiem tak dużych wartości może byc ilość pętli i przeszukiwan w funkcji fitness."
   ],
   "attachments":{
    
   },
   "metadata":{
    "datalore":{
     "node_id":"UwFayeMI0V0mJzAimpglTt",
     "type":"MD",
     "hide_input_from_viewers":true,
     "hide_output_from_viewers":false,
     "report_properties":{
      "rowId":"gryb8ExvgYMMSIwIZf0YaY",
      "relativeY":0
     }
    }
   }
  },
  {
   "cell_type":"code",
   "source":[
    "from prettytable import PrettyTable\n",
    "\n",
    "row_labels = [\"Łatwy\", \"Średni\", \"Trudny\"]\n",
    "column_labels = [\"Ilość idealnych\", \"Procent\", \"Średnia poprawność rozwiązania\"]\n",
    "row1 = [5,\"5%\",\"74.16%\"]\n",
    "row2 = [0,\"0%\",\"38.49%\"]\n",
    "row3 = [0,\"0%\",\"22.77%\"]\n",
    "\n",
    "table = PrettyTable()\n",
    "table.field_names = [\"\"] + column_labels\n",
    "table.add_row([row_labels[0]] + row1)\n",
    "table.add_row([row_labels[1]] + row2)\n",
    "table.add_row([row_labels[2]] + row3)\n",
    "\n",
    "print(table)\n",
    "\n",
    "import matplotlib.pyplot as plt\n",
    "\n",
    "# Dane \n",
    "categories = ['Łatwy (5x5)', 'Średni (8x8)', 'Trudny (11x11)']\n",
    "values = [74.16, 38.49,22.77]\n",
    "\n",
    "# Wykres\n",
    "fig, ax1 = plt.subplots()\n",
    "ax1.bar(categories, values)\n",
    "ax1.set_title('Średnia poprawność')\n",
    "ax1.set_xlabel('Wielkości')\n",
    "ax1.set_ylabel('% poprawności rozwiązania')"
   ],
   "execution_count":5,
   "outputs":[
    {
     "name":"stdout",
     "text":[
      "+--------+-----------------+---------+--------------------------------+\n",
      "|        | Ilość idealnych | Procent | Średnia poprawność rozwiązania |\n",
      "+--------+-----------------+---------+--------------------------------+\n",
      "| Łatwy  |        5        |    5%   |             74.16%             |\n",
      "| Średni |        0        |    0%   |             38.49%             |\n",
      "| Trudny |        0        |    0%   |             22.77%             |\n",
      "+--------+-----------------+---------+--------------------------------+\n"
     ],
     "output_type":"stream"
    },
    {
     "data":{
      "text\/plain":[
       "Text(0.5, 0, 'Wielkości')"
      ]
     },
     "metadata":{
      
     },
     "output_type":"display_data"
    },
    {
     "data":{
      "image\/png":"[encoded data removed]"
     },
     "metadata":{
      "image\/png":{
       
      }
     },
     "output_type":"display_data"
    }
   ],
   "metadata":{
    "datalore":{
     "node_id":"FfAOTgRL2jNp6q2klsoFS0",
     "type":"CODE",
     "hide_input_from_viewers":false,
     "hide_output_from_viewers":false,
     "report_properties":{
      "rowId":"Qqj1w2UqgzkZlWGqNIoB2d",
      "relativeY":0
     }
    }
   }
  },
  {
   "cell_type":"markdown",
   "source":[
    "Jak widać na powyższej tabeli, algoytm znajduje rozwiązanie dla łatwych problemów z efektywnością 5%. Ponadto do danych jest dołączona średnia poprawność rozwiązania - była obliczana na podstawie procentowego podobienstwa najlepszego rozwiązania do idealnego. Algorytm radzi sobie na problemach łatwych, a nie daje rady z średnimi i trudnymi problemami. Powodem tego może być funkcja fitness, która nie w pełni obsługuje problem lub ilość pokoleń. \n",
    "\n",
    "<p>\n",
    "<p>\n",
    "Algorytm genetyczny jest w stanie znaleźć rozwiązanie, lecz wymaga on prawdopodobnie znacznych zmian w funkcji fitness."
   ],
   "attachments":{
    
   },
   "metadata":{
    "datalore":{
     "node_id":"wsvotxFPDMCsAPqqenPwLn",
     "type":"MD",
     "hide_input_from_viewers":true,
     "hide_output_from_viewers":false,
     "report_properties":{
      "rowId":"hM7BDUKVPxpgBaqySDIHBy",
      "relativeY":0
     }
    }
   }
  },
  {
   "cell_type":"markdown",
   "source":[
    "<h1> 5. Bibliografia <\/h1>\n",
    "<p> https:\/\/en.wikipedia.org\/wiki\/Numberlink\n",
    "<p> https:\/\/numberlinks.puzzlebaron.com\/\n",
    "<p> https:\/\/stackoverflow.com\/questions\/32459925\/solving-a-puzzle-using-search-algorithms\n",
    "<p> https:\/\/play.google.com\/store\/apps\/details?id=com.pinkpointer.pipeflow&hl=en_US\n",
    "<p> https:\/\/game-solver.com\/flow-bridges-11x11-mania-solutions\/flow-bridges-11x11-mania-level-93\/\n",
    "<p> https:\/\/numberlink-windows-10.en.softonic.com\/\n",
    "<br>\n",
    "<br>\n",
    "<br>\n",
    "<br>\n",
    "<b> Autor: Karol Krawczykiewicz"
   ],
   "attachments":{
    
   },
   "metadata":{
    "datalore":{
     "node_id":"WTrK7eJdQbw6IvsHRiymZA",
     "type":"MD",
     "hide_input_from_viewers":true,
     "hide_output_from_viewers":false,
     "report_properties":{
      "rowId":"EIXleocHOBFQlPiqYDiQC9",
      "relativeY":0
     }
    }
   }
  }
 ],
 "metadata":{
  "kernelspec":{
   "display_name":"Python",
   "language":"python",
   "name":"python"
  },
  "datalore":{
   "computation_mode":"JUPYTER",
   "package_manager":"pip",
   "base_environment":"default",
   "packages":[
    {
     "name":"pygad",
     "version":"2.19.2",
     "source":"PIP"
    },
    {
     "name":"prettytable",
     "version":"3.6.0",
     "source":"PIP"
    }
   ],
   "report_row_ids":[
    "q48boELFTXuSflICY2i4tq",
    "v7JB0SdxqpAv02wD5qE89i",
    "2TonppulQV3MywZY8v6iKo",
    "uGjFdKCeOGJbc7h0Qp74ta",
    "QNOthCquLUvVei6BFw1cW9",
    "ukaBZeDINHkCMryzbhuYV3",
    "AcDfPjp5zSR8Ius07XBRaP",
    "xb7cFzaKkmPHeC6eh2uTWL",
    "es30Wf6ra97A3rMIGGcgfc",
    "KjHiL95EFJXxKABrnmwzA8",
    "ituclqtciOyiaufW3hbLku",
    "3tit3u8G4XZSsCi3mQKzOm",
    "7CumY09IiPKWGjo3ALeFQM",
    "9aOVkdiFouGDWKJLpD0zSW",
    "XILUTI1utnsWPLK9qumZG9",
    "gryb8ExvgYMMSIwIZf0YaY",
    "Qqj1w2UqgzkZlWGqNIoB2d",
    "hM7BDUKVPxpgBaqySDIHBy",
    "EIXleocHOBFQlPiqYDiQC9"
   ],
   "version":2
  }
 },
 "nbformat":4,
 "nbformat_minor":4
}